{
  "nbformat": 4,
  "nbformat_minor": 0,
  "metadata": {
    "colab": {
      "name": "Manav_Exercise_1",
      "version": "0.3.2",
      "provenance": [],
      "collapsed_sections": []
    },
    "kernelspec": {
      "name": "python3",
      "display_name": "Python 3"
    },
    "accelerator": "GPU"
  },
  "cells": [
    {
      "metadata": {
        "id": "ISu9tc8kzEE9",
        "colab_type": "code",
        "colab": {}
      },
      "cell_type": "code",
      "source": [
        "# Importing all the packages\n",
        "import numpy as np\n",
        "import _pickle as cPickle\n",
        "import os\n",
        "import gzip\n",
        "import random\n",
        "import matplotlib.pyplot as plt"
      ],
      "execution_count": 0,
      "outputs": []
    },
    {
      "metadata": {
        "id": "MAqlrrLVjzG1",
        "colab_type": "text"
      },
      "cell_type": "markdown",
      "source": [
        ""
      ]
    },
    {
      "metadata": {
        "id": "53K7vWT4zEFF",
        "colab_type": "text"
      },
      "cell_type": "markdown",
      "source": [
        "# First exercise: Classifying MNIST with MLPs\n",
        "In this exercise you will implement a Neural Network (or MLP) and classify the MNIST digits with it.\n",
        "MNIST is a \"well hung\" dataset that has been used a lot over the years to benchmark different classification algorithms. \n",
        "To learn more about it have a look here: http://yann.lecun.com/exdb/mnist/ ."
      ]
    },
    {
      "metadata": {
        "id": "aAweuLU3zEFH",
        "colab_type": "text"
      },
      "cell_type": "markdown",
      "source": [
        "# Data Loading\n",
        "We first define a function for downloading and loading MNIST.\n",
        "**WARNING**: Executing it will obviously use up some space on your machine ;). "
      ]
    },
    {
      "metadata": {
        "id": "sxUjbMANzEFK",
        "colab_type": "code",
        "colab": {}
      },
      "cell_type": "code",
      "source": [
        "def mnist(datasets_dir='./data'):\n",
        "    if not os.path.exists(datasets_dir):\n",
        "        os.mkdir(datasets_dir)\n",
        "    data_file = os.path.join(datasets_dir, 'mnist.pkl.gz')\n",
        "    if not os.path.exists(data_file):\n",
        "        print('... downloading MNIST from the web')\n",
        "        try:\n",
        "            import urllib\n",
        "            urllib.urlretrieve('http://google.com')\n",
        "        except AttributeError:\n",
        "            import urllib.request as urllib\n",
        "        url = 'http://www.iro.umontreal.ca/~lisa/deep/data/mnist/mnist.pkl.gz'\n",
        "        urllib.urlretrieve(url, data_file)\n",
        "\n",
        "    print('... loading data')\n",
        "    # Load the dataset\n",
        "    f = gzip.open(data_file, 'rb')\n",
        "    try:\n",
        "        train_set, valid_set, test_set = cPickle.load(f, encoding=\"latin1\")\n",
        "    except TypeError:\n",
        "        train_set, valid_set, test_set = cPickle.load(f)\n",
        "    f.close()\n",
        "\n",
        "    test_x, test_y = test_set\n",
        "    test_x = test_x.astype('float32')\n",
        "    test_x = test_x.astype('float32').reshape(test_x.shape[0], 1, 28, 28)\n",
        "    test_y = test_y.astype('int32')\n",
        "    valid_x, valid_y = valid_set\n",
        "    valid_x = valid_x.astype('float32')\n",
        "    valid_x = valid_x.astype('float32').reshape(valid_x.shape[0], 1, 28, 28)\n",
        "    valid_y = valid_y.astype('int32')\n",
        "    train_x, train_y = train_set\n",
        "    train_x = train_x.astype('float32').reshape(train_x.shape[0], 1, 28, 28)\n",
        "    train_y = train_y.astype('int32')\n",
        "    rval = [(train_x, train_y), (valid_x, valid_y), (test_x, test_y)]\n",
        "    print('... done loading data')\n",
        "    return rval"
      ],
      "execution_count": 0,
      "outputs": []
    },
    {
      "metadata": {
        "id": "7w55-ZEmzEFO",
        "colab_type": "text"
      },
      "cell_type": "markdown",
      "source": [
        "# Neural Network Layers\n",
        "We now define \"bare bone\" neural network layers.\n",
        "The parts marked with **TODO** are where you should finish the implementation!\n",
        "Conceptually we will implement the layers as follows:\n",
        "\n",
        "Each layer has a constructor that takes an input layer plus some additional arguments such as layer size and the activation function name. The layer then uses the provided input layer to compute the layer dimensions, weight shapes, etc. and setup all auxilliary variables.\n",
        "\n",
        "Each layer then has to provide three functions (as defined in the Layer class below): *output_shape()*, *fprop()* and *brop()*. The output_shape function is used to figure out the shape for the next layer and the *fprop()/bprop()* functions are used to compute forward and backward passes through the network."
      ]
    },
    {
      "metadata": {
        "id": "XDI5G-TtzEFR",
        "colab_type": "code",
        "colab": {}
      },
      "cell_type": "code",
      "source": [
        "# start by defining simple helpers\n",
        "def sigmoid(x):\n",
        "    return 1.0/(1.0+np.exp(-x))\n",
        "\n",
        "def sigmoid_d(x):\n",
        "  return sigmoid(x)*(1-sigmoid(x))\n",
        "\n",
        "def tanh(x):\n",
        "    return np.tanh(x)\n",
        "\n",
        "def tanh_d(x):\n",
        "  return (1-np.square(np.tanh(x)))\n",
        "\n",
        "def relu(x):\n",
        "    return np.maximum(0.0, x)\n",
        "\n",
        "def relu_d(x):\n",
        "    x_in=x\n",
        "    x_in[x_in<=0]=0;\n",
        "    x_in[x_in>0]=1;\n",
        "    return x_in\n",
        "  \n",
        "def softmax(x, axis=1):\n",
        "    # to make the softmax a \"safe\" operation we will \n",
        "    # first subtract the maximum along the specified axis\n",
        "    # so that np.exp(x) does not blow up!\n",
        "    # Note that this does not change the output.\n",
        "    x_max = np.max(x, axis=axis, keepdims=True)\n",
        "    x_safe = x - x_max\n",
        "    e_x = np.exp(x_safe)\n",
        "    return e_x / np.sum(e_x, axis=axis, keepdims=True)\n",
        "\n",
        "def one_hot(labels):\n",
        "    \"\"\"this creates a one hot encoding from a flat vector:\n",
        "    i.e. given y = [0,2,1]\n",
        "     it creates y_one_hot = [[1,0,0], [0,0,1], [0,1,0]]\n",
        "    \"\"\"\n",
        "    classes = np.unique(labels)\n",
        "    n_classes = classes.size\n",
        "    one_hot_labels = np.zeros(labels.shape + (n_classes,))\n",
        "    for c in classes:\n",
        "        one_hot_labels[labels == c, c] = 1\n",
        "    return one_hot_labels\n",
        "\n",
        "def unhot(one_hot_labels):\n",
        "    \"\"\" Invert a one hot encoding, creating a flat vector \"\"\"\n",
        "    return np.argmax(one_hot_labels, axis=-1)\n",
        "\n",
        "# then define an activation function class\n",
        "class Activation(object):\n",
        "    \n",
        "    def __init__(self, tname):\n",
        "        if tname == 'sigmoid':\n",
        "            self.act = sigmoid\n",
        "            self.act_d = sigmoid_d\n",
        "        elif tname == 'tanh':\n",
        "            self.act = tanh\n",
        "            self.act_d = tanh_d\n",
        "        elif tname == 'relu':\n",
        "            self.act = relu\n",
        "            self.act_d = relu_d\n",
        "        else:\n",
        "            raise ValueError('Invalid activation function.')\n",
        "            \n",
        "    def fprop(self, input):\n",
        "        # we need to remember the last input\n",
        "        # so that we can calculate the derivative with respect\n",
        "        # to it later on\n",
        "        self.last_input = input\n",
        "        return self.act(input)\n",
        "    \n",
        "    def bprop(self, output_grad):\n",
        "        #print(self.act_d(self.last_input).shape)\n",
        "        #print(output_grad.shape)\n",
        "        return output_grad * self.act_d(self.last_input)\n",
        "\n",
        "# define a base class for layers\n",
        "class Layer(object):\n",
        "    \n",
        "    def fprop(self, input):\n",
        "        \"\"\" Calculate layer output for given input \n",
        "            (forward propagation). \n",
        "        \"\"\"\n",
        "        raise NotImplementedError('This is an interface class, please use a derived instance')\n",
        "\n",
        "    def bprop(self, output_grad):\n",
        "        \"\"\" Calculate input gradient and gradient \n",
        "            with respect to weights and bias (backpropagation). \n",
        "        \"\"\"\n",
        "        raise NotImplementedError('This is an interface class, please use a derived instance')\n",
        "\n",
        "    def output_size(self):\n",
        "        \"\"\" Calculate size of this layer's output.\n",
        "        input_shape[0] is the number of samples in the input.\n",
        "        input_shape[1:] is the shape of the feature.\n",
        "        \"\"\"\n",
        "        raise NotImplementedError('This is an interface class, please use a derived instance')\n",
        "\n",
        "# define a base class for loss outputs\n",
        "# an output layer can then simply be derived\n",
        "# from both Layer and Loss \n",
        "class Loss(object):\n",
        "\n",
        "    def loss(self, output, output_net):\n",
        "        \"\"\" Calculate mean loss given real output and network output. \"\"\"\n",
        "        raise NotImplementedError('This is an interface class, please use a derived instance')\n",
        "\n",
        "    def input_grad(self, output, output_net):\n",
        "        \"\"\" Calculate input gradient real output and network output. \"\"\"\n",
        "        raise NotImplementedError('This is an interface class, please use a derived instance')\n",
        "\n",
        "# define a base class for parameterized things        \n",
        "class Parameterized(object):\n",
        "    \n",
        "    def params(self):\n",
        "        \"\"\" Return parameters (by reference) \"\"\"\n",
        "        raise NotImplementedError('This is an interface class, please use a derived instance')\n",
        "    \n",
        "    def grad_params(self):\n",
        "        \"\"\" Return accumulated gradient with respect to params. \"\"\"\n",
        "        raise NotImplementedError('This is an interface class, please use a derived instance')\n",
        "\n",
        "# define a container for providing input to the network\n",
        "class InputLayer(Layer):\n",
        "    \n",
        "    def __init__(self, input_shape):\n",
        "        if not isinstance(input_shape, tuple):\n",
        "            raise ValueError(\"InputLayer requires input_shape as a tuple\")\n",
        "        self.input_shape = input_shape\n",
        "\n",
        "    def output_size(self):\n",
        "        return self.input_shape\n",
        "    \n",
        "    def fprop(self, input):\n",
        "        return input\n",
        "    \n",
        "    def bprop(self, output_grad):\n",
        "        return output_grad\n",
        "        \n",
        "class FullyConnectedLayer(Layer, Parameterized):\n",
        "    \"\"\" A standard fully connected hidden layer, as discussed in the lecture.\n",
        "    \"\"\"\n",
        "    \n",
        "    def __init__(self, input_layer, num_units, \n",
        "                 init_stddev, activation_fun=Activation('relu')):\n",
        "        self.num_units = num_units\n",
        "        self.activation_fun = activation_fun\n",
        "        self.input_shape = input_layer.output_size()\n",
        "        # Weight and bias_Initialisation\n",
        "        #print('num_of_units',num_units)\n",
        "        #print('num_of_units as input shape[0]',input_shape[0])\n",
        "        #print('num_of_units as input shape[1]',input_shape[1])\n",
        "        self.W = np.random.normal(0,init_stddev,(self.input_shape[1],num_units))\n",
        "        # and this is the bias vector of shape: (num_units)\n",
        "        self.b = np.zeros((1,num_units))\n",
        "        # create dummy variables for parameter gradients\n",
        "        # no need to change these here!\n",
        "        self.dW = None\n",
        "        self.db = None\n",
        "    \n",
        "    def output_size(self):\n",
        "        return (self.input_shape[0], self.num_units)\n",
        "      \n",
        "      \n",
        "\n",
        "    def fprop(self, input):\n",
        "        self.last_input = input\n",
        "        #print('shape of self.W',self.W.shape)\n",
        "        #print('shape of self.last_input',self.last_input.shape)\n",
        "        #print('shape of self.b',self.b.shape)\n",
        "        Z = np.dot(input, self.W) + self.b\n",
        "        if self.activation_fun == None:\n",
        "            return Z\n",
        "        else:\n",
        "            return self.activation_fun.fprop(Z)\n",
        " \n",
        "    def bprop(self, output_grad):\n",
        "        \"\"\" Calculate input gradient (backpropagation). \"\"\"\n",
        "        n = output_grad.shape[0]\n",
        "        if self.activation_fun == None:\n",
        "            curr_act_grad = output_grad\n",
        "        else:\n",
        "            curr_act_grad = self.activation_fun.bprop(output_grad)\n",
        "        self.dW = self.last_input.T.dot(curr_act_grad)\n",
        "        self.db = np.sum(curr_act_grad, axis=0)/n\n",
        "        #self.dW = self.last_input.T.dot(curr_act_grad) # with respect to single parameter(actication*last input)\n",
        "        #self.db = curr_act_grad\n",
        "        #print('the shape of the gradient of activation',act_grad.shape)\n",
        "        #print('shape of the last input',self.last_input.shape)\n",
        "        return curr_act_grad.dot(self.W.T)\n",
        "        \n",
        "    def params(self):\n",
        "        #print(self.W)\n",
        "        return self.W, self.b\n",
        "\n",
        "    def grad_params(self):\n",
        "        return self.dW, self.db\n",
        "\n",
        "\n",
        "class LinearOutput(Layer, Loss):\n",
        "    \"\"\" A simple linear output layer that  \n",
        "        uses a squared loss (e.g. should be used for regression)\n",
        "    \"\"\"\n",
        "    def __init__(self, input_layer):\n",
        "        self.input_size = input_layer.output_size()\n",
        "        \n",
        "    def output_size(self):\n",
        "        return (1,)\n",
        "        \n",
        "    def fprop(self, input):\n",
        "        return input\n",
        "\n",
        "    def bprop(self, output_grad):\n",
        "        raise NotImplementedError(\n",
        "            'LinearOutput should only be used as the last layer of a Network'\n",
        "            + ' bprop() should thus never be called on it!'\n",
        "        )\n",
        "    #Not Being used!!\n",
        "    def input_grad(self, Y, Y_pred):\n",
        "        grd_ypred = (Y_pred - Y) / (Y.shape[0])#dont forget the brackets with ypred-y\n",
        "        return grd_ypred \n",
        "\n",
        "    def loss(self, Y, Y_pred):\n",
        "        loss = 0.5 * np.square(Y_pred - Y)\n",
        "        loss_m = np.mean(np.sum(loss, axis=1))\n",
        "        return loss_m\n",
        "\n",
        "class SoftmaxOutput(Layer, Loss):\n",
        "    \"\"\" A softmax output layer that calculates \n",
        "        the negative log likelihood as loss\n",
        "        and should be used for classification.\n",
        "    \"\"\"\n",
        "    \n",
        "    def __init__(self, input_layer):\n",
        "        self.input_size = input_layer.output_size()\n",
        "        \n",
        "    def output_size(self):\n",
        "        return (1,)\n",
        "    \n",
        "    def fprop(self, input):\n",
        "        return softmax(input)\n",
        "    \n",
        "    def bprop(self, output_grad):\n",
        "        raise NotImplementedError(\n",
        "            'SoftmaxOutput should only be used as the last layer of a Network'\n",
        "            + ' bprop() should thus never be called on it!'\n",
        "        )\n",
        "    \n",
        "    def input_grad(self, Y, Y_pred):\n",
        "        # softmax_grad = (Y_pred - Y)\n",
        "        softmax_grad = (Y_pred - Y) / (Y.shape[0])# gradient same as least square\n",
        "        return softmax_grad\n",
        "\n",
        "    def loss(self, Y, Y_pred):\n",
        "      '''work on negative loh likelihood with softmax'''        \n",
        "      out_pred = Y_pred\n",
        "      eps = 1e-10    \n",
        "      loss = np.sum(-np.log(out_pred + eps) * Y, axis = 1)\n",
        "      #print('shape of loss',loss.shape)\n",
        "      loss = np.mean(loss)\n",
        "      return loss"
      ],
      "execution_count": 0,
      "outputs": []
    },
    {
      "metadata": {
        "id": "xxaSUBYyzEFX",
        "colab_type": "text"
      },
      "cell_type": "markdown",
      "source": [
        "# Neural Network class\n",
        "With all layers in place (and properly implemented by you) we can finally define a neural network.\n",
        "For our purposes a neural network is simply a collection of layers which we will cycle through and on which we will call fprop and bprop to compute partial derivatives with respect to the input and the parameters.\n",
        "\n",
        "Pay special attention to the *check_gradients()* function in which you should implement automatic differentiation. This function will become your best friend when checking the correctness of your implementation."
      ]
    },
    {
      "metadata": {
        "id": "DbXzPLBszEFY",
        "colab_type": "code",
        "colab": {}
      },
      "cell_type": "code",
      "source": [
        "\n",
        "class NeuralNetwork:\n",
        "    \"\"\" Our Neural Network container class.\n",
        "    \"\"\"\n",
        "    def __init__(self, layers):\n",
        "        self.layers = layers\n",
        "        \n",
        "    def _loss(self, X, Y):\n",
        "        Y_pred = self.predict(X)\n",
        "        return self.layers[-1].loss(Y, Y_pred)\n",
        "\n",
        "    def predict(self, X):\n",
        "        \"\"\" Calculate an output Y for the given input X. \"\"\"\n",
        "        y_pred = X\n",
        "        for layer in self.layers:\n",
        "          y_pred = layer.fprop(y_pred)\n",
        "           # print('the object of layer:',layer) # to check the layer wwhich gives the shape error\n",
        "        return y_pred\n",
        "\n",
        "    \n",
        "    def backpropagate(self, Y, Y_pred, upto=0):\n",
        "        \"\"\" Backpropagation of partial derivatives through \n",
        "            the complete network up to layer 'upto'\n",
        "        \"\"\"\n",
        "        #print(\"the -1 layer is\",self.layers[-1])\n",
        "        next_grad = self.layers[-1].input_grad(Y, Y_pred)\n",
        "        backwards = np.flip(range(upto, len(self.layers)-1), axis=0)\n",
        "        \n",
        "        for i in backwards:\n",
        "          next_grad = self.layers[i].bprop(next_grad)\n",
        "        #print(next_grad.shape)\n",
        "        return next_grad\n",
        "    \n",
        "    def classification_error(self, X, Y):\n",
        "        \"\"\" Calculate error on the given data \n",
        "            assuming they are classes that should be predicted. \n",
        "        \"\"\"\n",
        "        Y_pred = unhot(self.predict(X))\n",
        "        error = Y_pred != Y\n",
        "        return np.mean(error)\n",
        "    \n",
        "    def sgd_epoch(self, X, Y, learning_rate, batch_size):\n",
        "        n_samples = X.shape[0]\n",
        "        n_batches = n_samples // batch_size\n",
        "        for b in range(n_batches):\n",
        "          X_train_mini = X[b*batch_size :(b+1)*batch_size,:]\n",
        "          Y_train_mini = Y[b*batch_size :(b+1)*batch_size,:]\n",
        "          Y_pred = self.predict(X_train_mini)\n",
        "          self.backpropagate(Y_train_mini,Y_pred)\n",
        "          for l,layer in enumerate(self.layers):\n",
        "              if isinstance(layer, Parameterized):\n",
        "                W, b =layer.params()\n",
        "                dW, db = layer.grad_params()\n",
        "                layer.W = W-learning_rate * layer.dW\n",
        "                layer.b = b-learning_rate * layer.db\n",
        "                             \n",
        "    def gd_epoch(self, X, Y, learning_rate):\n",
        "        Y_pred = self.predict(X)\n",
        "        Backprop = self.backpropagate(Y,Y_pred)\n",
        "        for l, layer in enumerate(self.layers):\n",
        "          if isinstance(layer, Parameterized):\n",
        "            W, b =layer.params()\n",
        "            dW, db = layer.grad_params()\n",
        "            layer.W = W-learning_rate * layer.dW\n",
        "            layer.b = b-learning_rate * layer.db\n",
        "          \n",
        "    \n",
        "    def train(self, X, Y, X_valid, Y_valid, learning_rate=0.1, max_epochs=100, batch_size=64,\n",
        "              descent_type=\"sgd\", y_one_hot=True):\n",
        "        \"\"\" Train network on the given data. \"\"\"\n",
        "        n_samples = X.shape[0]\n",
        "        n_batches = n_samples // batch_size\n",
        "        if y_one_hot:\n",
        "            Y_train = one_hot(Y)\n",
        "            Y_valid_onehot = one_hot(Y_valid)\n",
        "        else:\n",
        "            Y_train = Y\n",
        "            Y_valid_onehot = Y_valid\n",
        "        print(\"... starting training\")\n",
        "        self.train_error = []\n",
        "        self.val_error = []\n",
        "        for e in range(max_epochs+1):\n",
        "            if descent_type == \"sgd\":\n",
        "                self.sgd_epoch(X, Y_train, learning_rate, batch_size)\n",
        "            elif descent_type == \"gd\":\n",
        "                self.gd_epoch(X, Y_train, learning_rate)\n",
        "            else:\n",
        "                raise NotImplementedError(\"Unknown gradient descent type {}\".format(descent_type))\n",
        "            # Output error on the training data\n",
        "            train_loss = self._loss(X, Y_train)\n",
        "            train_error = self.classification_error(X, Y)\n",
        "            val_loss = self._loss(X_valid,Y_valid_onehot)\n",
        "            val_error = self.classification_error(X_valid,Y_valid)\n",
        "            self.train_error.append(train_error)\n",
        "            self.val_error.append(val_loss)\n",
        "            print('epoch {},train loss {:.4f}, train error {:.4f}, valid loss {:.4f}, valid error {:.4f}'.format(e, train_loss, train_error, val_loss, val_error))\n",
        "        \n",
        "        plt.plot(self.train_error,label= \"train-error\")\n",
        "        plt.plot(self.val_error, label =\"validation-error\")\n",
        "        plt.legend(loc = 'best')\n",
        "        plt.title(\"Training and Validation Error\")\n",
        "        plt.xlabel(\"number of epochs\")\n",
        "        plt.ylabel(\"error\")\n",
        "        plt.show()\n",
        "    def check_gradients(self, X, Y):\n",
        "        \"\"\" Helper function to test the parameter gradients for\n",
        "        correctness. \"\"\"\n",
        "        for l, layer in enumerate(self.layers):\n",
        "            if isinstance(layer, Parameterized):\n",
        "                print('checking gradient for layer {}'.format(l))\n",
        "                for p, param in enumerate(layer.params()):\n",
        "                    # we iterate through all parameters\n",
        "                    param_shape = param.shape\n",
        "                    # define functions for conveniently swapping\n",
        "                    # out parameters of this specific layer and \n",
        "                    # computing loss and gradient with these \n",
        "                    # changed parametrs\n",
        "                    def output_given_params(param_new):\n",
        "                        \"\"\" A function that will compute the output \n",
        "                            of the network given a set of parameters\n",
        "                        \"\"\"\n",
        "                        # copy provided parameters\n",
        "                        param[:] = np.reshape(param_new, param_shape)\n",
        "                        # return computed loss\n",
        "                        return self._loss(X, Y)\n",
        "\n",
        "                    def grad_given_params(param_new):\n",
        "                        \"\"\"A function that will compute the gradient \n",
        "                           of the network given a set of parameters\n",
        "                        \"\"\"\n",
        "                        # copy provided parameters\n",
        "                        param[:] = np.reshape(param_new, param_shape)\n",
        "                        # Forward propagation through the net\n",
        "                        Y_pred = self.predict(X)\n",
        "                        # Backpropagation of partial derivatives\n",
        "                        self.backpropagate(Y, Y_pred, upto=l)\n",
        "                        # return the computed gradient \n",
        "                        return np.ravel(self.layers[l].grad_params()[p])\n",
        "\n",
        "                    # let the initial parameters be the ones that\n",
        "                    # are currently placed in the network and flatten them\n",
        "                    # to a vector for convenient comparisons, printing etc.\n",
        "                    param_init = np.ravel(np.copy(param))\n",
        "                    \n",
        "                    # To debug you network's gradients use scipys\n",
        "                    # gradient checking!\n",
        "                    epsilon = 1e-5\n",
        "                    import scipy.optimize\n",
        "                    err = scipy.optimize.check_grad(output_given_params, \n",
        "                          grad_given_params, param_init) \n",
        "                    print('diff scipy {:.2e}'.format(err))\n",
        "                    assert(err < epsilon)\n",
        "                    \n",
        "                    # reset the parameters to their initial values\n",
        "                    param[:] = np.reshape(param_init, param_shape)"
      ],
      "execution_count": 0,
      "outputs": []
    },
    {
      "metadata": {
        "id": "mADHZmGkzEFb",
        "colab_type": "text"
      },
      "cell_type": "markdown",
      "source": [
        "# Gradient Checking\n",
        "After implementing everything it is always a good idea to setup some layers and perform gradient\n",
        "checking on random data. **Note** that this is only an example! It is not a useful network architecture ;). We also expect you to play around with this to test all your implemented components."
      ]
    },
    {
      "metadata": {
        "id": "HmoWfFNHzEFd",
        "colab_type": "code",
        "colab": {}
      },
      "cell_type": "code",
      "source": [
        "input_shape = (5, 10)\n",
        "n_labels = 6\n",
        "layers = [InputLayer(input_shape)]\n",
        "\n",
        "layers.append(FullyConnectedLayer(\n",
        "                layers[-1],\n",
        "                num_units=15,\n",
        "                init_stddev=0.1,\n",
        "                activation_fun=Activation('relu')\n",
        "))\n",
        "layers.append(FullyConnectedLayer(\n",
        "                layers[-1],\n",
        "                num_units=6,\n",
        "                init_stddev=0.1,\n",
        "                activation_fun=Activation('tanh')\n",
        "))\n",
        "layers.append(FullyConnectedLayer(\n",
        "                layers[-1],\n",
        "                num_units=n_labels,\n",
        "                init_stddev=0.1,\n",
        "                activation_fun=Activation('relu')\n",
        "))\n",
        "layers.append(SoftmaxOutput(layers[-1]))\n",
        "nn = NeuralNetwork(layers)"
      ],
      "execution_count": 0,
      "outputs": []
    },
    {
      "metadata": {
        "id": "gxFVTjCvzEFi",
        "colab_type": "code",
        "colab": {}
      },
      "cell_type": "code",
      "source": [
        "# create random data\n",
        "X = np.random.normal(size=input_shape)\n",
        "# and random labels\n",
        "Y = np.zeros((input_shape[0], n_labels))\n",
        "for i in range(Y.shape[0]):\n",
        "    idx = np.random.randint(n_labels)\n",
        "    Y[i, idx] = 1."
      ],
      "execution_count": 0,
      "outputs": []
    },
    {
      "metadata": {
        "id": "uq8ylyhBzEFs",
        "colab_type": "text"
      },
      "cell_type": "markdown",
      "source": [
        "# Training on MNIST\n",
        "Finally we can let our network run on the MNIST dataset!"
      ]
    },
    {
      "metadata": {
        "id": "lspqhlhezEFu",
        "colab_type": "text"
      },
      "cell_type": "markdown",
      "source": [
        "First load the data and reshape it."
      ]
    },
    {
      "metadata": {
        "id": "mGhLxbZOzEFx",
        "colab_type": "code",
        "outputId": "bb66d4b3-3b3f-4dc0-e3b7-815670bf99da",
        "colab": {
          "base_uri": "https://localhost:8080/",
          "height": 51
        }
      },
      "cell_type": "code",
      "source": [
        "# load\n",
        "Dtrain, Dval, Dtest = mnist()\n",
        "X_train, y_train = Dtrain\n",
        "X_valid, y_valid = Dval\n"
      ],
      "execution_count": 77,
      "outputs": [
        {
          "output_type": "stream",
          "text": [
            "... loading data\n",
            "... done loading data\n"
          ],
          "name": "stdout"
        }
      ]
    },
    {
      "metadata": {
        "id": "fZIHCzAHzEF1",
        "colab_type": "text"
      },
      "cell_type": "markdown",
      "source": [
        "*Dtrain* contains 50k images which are of size 28 x 28 pixels. Hence:"
      ]
    },
    {
      "metadata": {
        "id": "-Zyk0aFAzEF3",
        "colab_type": "code",
        "outputId": "a42f34f1-2118-4f2d-de4c-de97af989ceb",
        "colab": {
          "base_uri": "https://localhost:8080/",
          "height": 51
        }
      },
      "cell_type": "code",
      "source": [
        "print(\"X_train shape: {}\".format(np.shape(X_train)))\n",
        "print(\"y_train shape: {}\".format(np.shape(y_train)))"
      ],
      "execution_count": 78,
      "outputs": [
        {
          "output_type": "stream",
          "text": [
            "X_train shape: (50000, 1, 28, 28)\n",
            "y_train shape: (50000,)\n"
          ],
          "name": "stdout"
        }
      ]
    },
    {
      "metadata": {
        "id": "ifxDiyLBzEF7",
        "colab_type": "text"
      },
      "cell_type": "markdown",
      "source": [
        "y_train will automatically be converted in the *train()* function to one_hot encoding.\n",
        "\n",
        "\n",
        "But we need to reshape X_train, as our Network expects flat vectors of size 28*28 as input!"
      ]
    },
    {
      "metadata": {
        "id": "hEWEYURKzEF_",
        "colab_type": "code",
        "outputId": "ff24d36f-6284-4639-bac3-da5f6924bac0",
        "colab": {
          "base_uri": "https://localhost:8080/",
          "height": 51
        }
      },
      "cell_type": "code",
      "source": [
        "X_train = X_train.reshape(X_train.shape[0], -1)\n",
        "print(\"Reshaped X_train size: {}\".format(X_train.shape))\n",
        "X_valid = X_valid.reshape((X_valid.shape[0], -1))\n",
        "print(\"Reshaped X_valid size: {}\".format(X_valid.shape))"
      ],
      "execution_count": 79,
      "outputs": [
        {
          "output_type": "stream",
          "text": [
            "Reshaped X_train size: (50000, 784)\n",
            "Reshaped X_valid size: (10000, 784)\n"
          ],
          "name": "stdout"
        }
      ]
    },
    {
      "metadata": {
        "id": "OTru2v-SzEGH",
        "colab_type": "text"
      },
      "cell_type": "markdown",
      "source": [
        "Ah, much better ;-)! \n",
        "\n",
        "Now we can finally really start training a Network!\n",
        "\n",
        "\n",
        "I pre-defined a small Network for you below. Again This is not really a good default and will not produce state of the art results. Please play around with this a bit. See how different activation functions and training procedures (gd / sgd) affect the result."
      ]
    },
    {
      "metadata": {
        "id": "pDFu-AxnzEGI",
        "colab_type": "code",
        "colab": {
          "base_uri": "https://localhost:8080/",
          "height": 787
        },
        "outputId": "25d61903-8b4a-4c43-f640-2d2f61a1666f"
      },
      "cell_type": "code",
      "source": [
        "import time\n",
        "\n",
        "# Setup a small MLP / Neural Network\n",
        "# we can set the first shape to None here to indicate that\n",
        "# we will input a variable number inputs to the network\n",
        "input_shape = (None, 28*28)\n",
        "layers = [InputLayer(input_shape)]\n",
        "layers.append(FullyConnectedLayer(\n",
        "                layers[-1],\n",
        "                num_units=100,\n",
        "                init_stddev=0.01,\n",
        "                activation_fun=Activation('relu')\n",
        "))\n",
        "layers.append(FullyConnectedLayer(\n",
        "                layers[-1],\n",
        "                num_units=100,\n",
        "                init_stddev=0.01,\n",
        "                activation_fun=Activation('relu')\n",
        "))\n",
        "layers.append(FullyConnectedLayer(\n",
        "                layers[-1],\n",
        "                num_units=10,\n",
        "                init_stddev=0.01,\n",
        "                # last layer has no nonlinearity \n",
        "                # (softmax will be applied in the output layer)\n",
        "                activation_fun=None \n",
        "))\n",
        "layers.append(SoftmaxOutput(layers[-1]))\n",
        "\n",
        "nn = NeuralNetwork(layers)\n",
        "# Train neural network\n",
        "t0 = time.time()\n",
        "nn.train(X_train, y_train, X_valid, y_valid, learning_rate=0.1, \n",
        "         max_epochs=20, batch_size=64, y_one_hot=True)\n",
        "t1 = time.time()\n",
        "print('Duration: {:.1f}s'.format(t1-t0))"
      ],
      "execution_count": 80,
      "outputs": [
        {
          "output_type": "stream",
          "text": [
            "... starting training\n",
            "epoch 0,train loss 0.5799, train error 0.1797, valid loss 0.5326, valid error 0.1640\n",
            "epoch 1,train loss 0.3102, train error 0.0962, valid loss 0.2896, valid error 0.0878\n",
            "epoch 2,train loss 0.2040, train error 0.0622, valid loss 0.1967, valid error 0.0572\n",
            "epoch 3,train loss 0.1521, train error 0.0466, valid loss 0.1540, valid error 0.0459\n",
            "epoch 4,train loss 0.1245, train error 0.0388, valid loss 0.1353, valid error 0.0398\n",
            "epoch 5,train loss 0.0989, train error 0.0299, valid loss 0.1180, valid error 0.0359\n",
            "epoch 6,train loss 0.0853, train error 0.0261, valid loss 0.1111, valid error 0.0327\n",
            "epoch 7,train loss 0.0744, train error 0.0229, valid loss 0.1068, valid error 0.0323\n",
            "epoch 8,train loss 0.0642, train error 0.0198, valid loss 0.1030, valid error 0.0313\n",
            "epoch 9,train loss 0.0568, train error 0.0173, valid loss 0.1012, valid error 0.0302\n",
            "epoch 10,train loss 0.0531, train error 0.0163, valid loss 0.1027, valid error 0.0305\n",
            "epoch 11,train loss 0.0479, train error 0.0149, valid loss 0.1022, valid error 0.0293\n",
            "epoch 12,train loss 0.0424, train error 0.0126, valid loss 0.1012, valid error 0.0286\n",
            "epoch 13,train loss 0.0351, train error 0.0103, valid loss 0.0982, valid error 0.0272\n",
            "epoch 14,train loss 0.0320, train error 0.0095, valid loss 0.1002, valid error 0.0270\n",
            "epoch 15,train loss 0.0278, train error 0.0084, valid loss 0.0992, valid error 0.0262\n",
            "epoch 16,train loss 0.0249, train error 0.0074, valid loss 0.0996, valid error 0.0262\n",
            "epoch 17,train loss 0.0231, train error 0.0068, valid loss 0.1003, valid error 0.0254\n",
            "epoch 18,train loss 0.0211, train error 0.0061, valid loss 0.1016, valid error 0.0260\n",
            "epoch 19,train loss 0.0196, train error 0.0056, valid loss 0.1031, valid error 0.0255\n",
            "epoch 20,train loss 0.0175, train error 0.0050, valid loss 0.1038, valid error 0.0248\n"
          ],
          "name": "stdout"
        },
        {
          "output_type": "display_data",
          "data": {
            "image/png": "[encoded data removed]",
            "text/plain": [
              "<matplotlib.figure.Figure at 0x7f350cefa0b8>"
            ]
          },
          "metadata": {
            "tags": []
          }
        },
        {
          "output_type": "stream",
          "text": [
            "Duration: 99.6s\n"
          ],
          "name": "stdout"
        }
      ]
    },
    {
      "metadata": {
        "id": "vh9lr0mGnDy_",
        "colab_type": "text"
      },
      "cell_type": "markdown",
      "source": [
        "## New Section"
      ]
    },
    {
      "metadata": {
        "collapsed": true,
        "id": "2I2zM-LWzEGK",
        "colab_type": "text"
      },
      "cell_type": "markdown",
      "source": [
        "# Figure out a reasonable Network that achieves good performance\n",
        "As the last part of this task, setup a network that works well and gets reasonable accuracy, say ~ 1-3 percent error on the **validation set**. \n",
        "Train this network on the complete data and compute the **test error**. \n",
        "\n",
        "Visualize the validation loss and training loss for each iteration in a plot, e.g. using matplotlib"
      ]
    },
    {
      "metadata": {
        "id": "lGkxE9whzEGL",
        "colab_type": "code",
        "colab": {
          "base_uri": "https://localhost:8080/",
          "height": 85
        },
        "outputId": "a1bcef89-1f26-4a6f-8619-ae5d22e1f60a"
      },
      "cell_type": "code",
      "source": [
        "X_test, y_test = Dtest\n",
        "print(\"X_test shape: {}\".format(np.shape(X_test)))\n",
        "print(\"y_test shape: {}\".format(np.shape(y_test)))\n",
        "X_test = X_test.reshape(X_test.shape[0], -1)\n",
        "print(\"Reshaped X_test size: {}\".format(X_test.shape))\n",
        "\n",
        "\n",
        "y_test_pred = nn.predict(X_test)\n",
        "y_test_error = nn.classification_error(X_test, y_test)\n",
        "print('Test error: {:.4f}' .format(y_test_error))\n",
        "\n",
        "X_final = np.concatenate((X_train, X_valid))\n",
        "y_final = np.concatenate((y_train, y_valid))\n"
      ],
      "execution_count": 69,
      "outputs": [
        {
          "output_type": "stream",
          "text": [
            "X_test shape: (10000, 1, 28, 28)\n",
            "y_test shape: (10000,)\n",
            "Reshaped X_test size: (10000, 784)\n",
            "Test error: 0.0257\n"
          ],
          "name": "stdout"
        }
      ]
    },
    {
      "metadata": {
        "id": "J88kCGI3nxUJ",
        "colab_type": "code",
        "colab": {
          "base_uri": "https://localhost:8080/",
          "height": 787
        },
        "outputId": "37bff207-0d52-4e17-e6f9-b6df0daa509d"
      },
      "cell_type": "code",
      "source": [
        "import time\n",
        "\n",
        "# Setup a small MLP / Neural Network\n",
        "# we can set the first shape to None here to indicate that\n",
        "# we will input a variable number inputs to the network\n",
        "input_shape = (None, 28*28)\n",
        "layers = [InputLayer(input_shape)]\n",
        "layers.append(FullyConnectedLayer(\n",
        "                layers[-1],\n",
        "                 num_units=250,\n",
        "                init_stddev=0.01,\n",
        "                activation_fun=Activation('relu')\n",
        "))\n",
        "layers.append(FullyConnectedLayer(\n",
        "                layers[-1],\n",
        "                num_units=50,\n",
        "                init_stddev=0.01,\n",
        "                activation_fun=Activation('tanh')\n",
        "))\n",
        "\n",
        "layers.append(FullyConnectedLayer(\n",
        "                layers[-1],\n",
        "                num_units=10,\n",
        "                init_stddev=0.01,\n",
        "                # last layer has no nonlinearity \n",
        "                # (softmax will be applied in the output layer)\n",
        "                activation_fun=None \n",
        "))\n",
        "layers.append(SoftmaxOutput(layers[-1]))\n",
        "\n",
        "nn = NeuralNetwork(layers)\n",
        "# Train neural network\n",
        "t0 = time.time()\n",
        "nn.train(X_final, y_final, X_test, y_test, learning_rate=0.2, \n",
        "         max_epochs=20, batch_size=64, y_one_hot=True)\n",
        "t1 = time.time()\n",
        "print('Duration: {:.1f}s'.format(t1-t0))"
      ],
      "execution_count": 81,
      "outputs": [
        {
          "output_type": "stream",
          "text": [
            "... starting training\n",
            "epoch 0,train loss 0.2366, train error 0.0737, valid loss 0.2358, valid error 0.0753\n",
            "epoch 1,train loss 0.1280, train error 0.0384, valid loss 0.1368, valid error 0.0418\n",
            "epoch 2,train loss 0.0814, train error 0.0245, valid loss 0.1017, valid error 0.0309\n",
            "epoch 3,train loss 0.0562, train error 0.0169, valid loss 0.0837, valid error 0.0255\n",
            "epoch 4,train loss 0.0429, train error 0.0129, valid loss 0.0779, valid error 0.0239\n",
            "epoch 5,train loss 0.0340, train error 0.0101, valid loss 0.0767, valid error 0.0228\n",
            "epoch 6,train loss 0.0278, train error 0.0080, valid loss 0.0753, valid error 0.0212\n",
            "epoch 7,train loss 0.0230, train error 0.0065, valid loss 0.0752, valid error 0.0214\n",
            "epoch 8,train loss 0.0191, train error 0.0057, valid loss 0.0750, valid error 0.0206\n",
            "epoch 9,train loss 0.0169, train error 0.0049, valid loss 0.0775, valid error 0.0216\n",
            "epoch 10,train loss 0.0137, train error 0.0039, valid loss 0.0788, valid error 0.0211\n",
            "epoch 11,train loss 0.0102, train error 0.0026, valid loss 0.0764, valid error 0.0207\n",
            "epoch 12,train loss 0.0082, train error 0.0021, valid loss 0.0745, valid error 0.0197\n",
            "epoch 13,train loss 0.0067, train error 0.0015, valid loss 0.0741, valid error 0.0196\n",
            "epoch 14,train loss 0.0060, train error 0.0013, valid loss 0.0747, valid error 0.0203\n",
            "epoch 15,train loss 0.0053, train error 0.0012, valid loss 0.0763, valid error 0.0197\n",
            "epoch 16,train loss 0.0046, train error 0.0008, valid loss 0.0766, valid error 0.0198\n",
            "epoch 17,train loss 0.0040, train error 0.0007, valid loss 0.0770, valid error 0.0198\n",
            "epoch 18,train loss 0.0042, train error 0.0009, valid loss 0.0785, valid error 0.0202\n",
            "epoch 19,train loss 0.0033, train error 0.0005, valid loss 0.0770, valid error 0.0195\n",
            "epoch 20,train loss 0.0029, train error 0.0005, valid loss 0.0772, valid error 0.0192\n"
          ],
          "name": "stdout"
        },
        {
          "output_type": "display_data",
          "data": {
            "image/png": "[encoded data removed]",
            "text/plain": [
              "<matplotlib.figure.Figure at 0x7f350cfcd390>"
            ]
          },
          "metadata": {
            "tags": []
          }
        },
        {
          "output_type": "stream",
          "text": [
            "Duration: 212.9s\n"
          ],
          "name": "stdout"
        }
      ]
    }
  ]
}